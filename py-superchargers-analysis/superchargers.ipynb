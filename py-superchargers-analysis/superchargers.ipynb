{
 "cells": [
  {
   "cell_type": "markdown",
   "id": "2e28b428-0ac0-4db6-87aa-d860ca16111c",
   "metadata": {
    "editable": true,
    "slideshow": {
     "slide_type": ""
    },
    "tags": []
   },
   "source": [
    "### To run this notebook\r\n",
    "1. Install Python 3.10.7\r\n",
    "2. Create a directory **my_project* : **mkdir my_project**\r\n",
    "3. Copy git project to above directory: **git link**\r\n",
    "4. Go to git project and create virtual env uing : **python -m venv venv**\r\n",
    "5. Activate virtual environment sing : **.\\venv\\Scripts\\activate**\r\n",
    "6. Install packagesusing : **pip -r requirements\n",
    "7. Start jupyter lab using: **jupyter lab**\n",
    "8. Open superchargers.ipynb notebook and review source data paths\n",
    "9. Run the notebook.txt**"
   ]
  },
  {
   "cell_type": "markdown",
   "id": "111ab43f-9f58-4605-9b19-f6f3c5763065",
   "metadata": {},
   "source": [
    "### The Assessment - This notebook is trying to answer following questions\n",
    "\n",
    "Tesla Energy Service Engineering Data Evaluation 5/10/23 Welcome to the Data Evaluation. This is an equivalent set of tasks to those you will be expected to perform as part of the Energy Service engineering Infrastructure and Analytics team. Please complete these exercises using python with pandas and present your results in a jupyter notebook. In this hypothetical, we are investigating a subset of the fleet of Superchargers to review possible temperature issues in the handles in March 2022. Please reach out to your recruiter to be provided with a link to the files needed for this exercise, and reach out if you have any questions\n",
    "\n",
    "1. Using the signals_data files, provide a list of components that have an average temeprature above 105 degrees during any 30 second period. Perform this analysis for all temperature signals in the dataset.\n",
    "2. Provide the maximum power (given by the LM_PowerLimit signal) that occurs during any 30 second period when a component experiences an average temperature of 105 degrees over that period.\n",
    "3. Provide the average power and temperature when a temperature related alert fires (see alerts_data for the alerts information and timestamps). Detail your method for aligning theialert timestamps with the signal timestamps, and your method for determining the value of the signal that occurs when the alert fires.\n",
    "4. Create exploratory data visualizations that indicate the general power, temperature and alert trends of the sites, assets and components in the data. Additionally please provide visualizations that allow for items that are concerning and need investigation to be easily identified for further followup. The hypothetical audience for these visualizations would be engineering stakeholders who are looking to understand any trends or correlations in the provided signals / alerts that could indicate poorly performing equipment and possible causes. You can use any tool or platform you wish (Tableau is preferred) but please present the results with some explanations in the jupyter notebook submission. Please note that\n",
    "providing an individual temperature graph for every asset, site and component does not achieve these goals."
   ]
  },
  {
   "cell_type": "markdown",
   "id": "903b78d2-6a70-4fe6-b3a3-1847b7227dd5",
   "metadata": {},
   "source": [
    "### My research and understanding about the problem\n",
    "#### Source : https://www.tesla.com/charging\n",
    "\n",
    "After reviewing the source material and website about Tesla's charging options, it appears that the problem at hand is related to the analysis of data from their superchargers. It can be assumed that this exercise specifically focuses on the superchargers, despite Tesla offering several methods to charge its vehicles. Tesla claims to have about 50,000 superchargers at this time. These superchargers are located in specific sites, identified by a name or asset, and consist of one or more components that send signal data to Tesla at second intervals.\r\n",
    "\r\n",
    "\r\n",
    "Based on this assessment, it can be deduced that the business users are seeking to identify potential issues with supercharger components and require an operational dashboard for executives. It is assumed that review meetings occur weekly. It may be helpful to speak with the business teams to gain more insig and requirements ow to organ, processize and store the data more effectively. It would be beneficial to store the data on a distributed platform that can be used for processing and analyzing. However, for this particular exercise, Python Pandas will be used.\n"
   ]
  },
  {
   "cell_type": "markdown",
   "id": "898fdae7-dbf7-43e6-a780-c459f665b2f3",
   "metadata": {
    "editable": true,
    "slideshow": {
     "slide_type": ""
    },
    "tags": []
   },
   "source": [
    "### My notes on March 2022 superchargers data\n",
    "\n",
    "1. Data is available in .\\data\\Energy Fleet Analyst\\\n",
    "2. It is a subset of March 2022 fleet of superchargers\n",
    "3. It looks like one CSV file is posted per signal and event_date\n",
    "4. CSV file names contain 'TempDegC' has temperatures recorded in degree centigrade site/asset/component combination\n",
    "5. CSV file names contain 'powerLimit' has power output from site/asset/component combination\n",
    "6. CSV file names contain 'analyst_alerts' has alerts that needs to be investigated for high temp and power\n",
    "7. All CSV contain identical columns and columns description is below\n",
    "   - blank column name: sequence number\n",
    "   - timestamp: epoch timestamp of event\n",
    "   - site: the location where the charger is installed\n",
    "   - asset: the charger (mobile/wall/supercharger/battery?)\n",
    "   - component: an asset is made of one or more components. the component that can send sensing data\n",
    "   - signal_name: singal sent by component\n",
    "   - value: some metric depending on signal name (e.g. temperature, power)\n",
    "   - event_date: event created date\n",
    "     "
   ]
  },
  {
   "cell_type": "markdown",
   "id": "68669980-3696-4810-a676-b6d760fc0394",
   "metadata": {},
   "source": [
    "### My assumptions on datamodel - A Conceptual interpretation\n",
    "\n",
    "1. Tesla energy fleet consists of chargers (mobile/wall/superchargers) installed across the globe\n",
    "2. Site -- The location where the charger is installed\n",
    "3. Asset -- The charger (mobile/wall/supercharger/battery?)\n",
    "4. Component -- Specific part of an asset that can send signal data to Tesla\n",
    "5. In case of supercharging network a site can have multiple assets. In case of mobile/wall the relationship is mostly 1:1\n",
    "6. When a vehicle is charged at a site using an asset, the components of asset are sending data to Tesla network. They could also send when idle\n",
    "7. The data needs to be analyzed to see if the asset components showed any unwanted behavior\n"
   ]
  },
  {
   "cell_type": "code",
   "execution_count": 1,
   "id": "21f544f3-9e72-4f6f-a209-55234b873573",
   "metadata": {},
   "outputs": [],
   "source": [
    "import os\n",
    "import pandas as pd\n",
    "import numpy as np\n",
    "\n",
    "# define source directory and input file pattern for extraction\n",
    "src_dir = \"./data/Energy Fleet Analyst/\"\n",
    "src_file_pat  = \"CoreTempDegC.csv\""
   ]
  },
  {
   "cell_type": "code",
   "execution_count": 2,
   "id": "6b5e2478-c97a-4716-adb7-8c173a08cacd",
   "metadata": {
    "editable": true,
    "slideshow": {
     "slide_type": ""
    },
    "tags": []
   },
   "outputs": [],
   "source": [
    "def get_src_files(src_dir,src_file_pat):\n",
    "    return [file for file in os.listdir(src_dir) if file.replace(\"'\",\"\").endswith(src_file_pat)]\n",
    "\n",
    "def get_src_schema():\n",
    "    # define source schema\n",
    "    return {\n",
    "        None: int,\n",
    "        \"timestamp\": np.int64,\n",
    "        \"SITE\": str,\n",
    "        \"ASSET\": str,\n",
    "        \"COMPONENT\": str,\n",
    "        \"signal_name\": str,\n",
    "        \"VALUE\": float \n",
    "        }\n",
    "    \n",
    "def get_cons_df(src_dir,src_files,src_schema,sel_cols):\n",
    "    df_cons = []\n",
    "    for src_file in src_files:\n",
    "        df = pd.read_csv(os.path.join(src_dir,src_file),dtype=src_schema,usecols=sel_cols)\n",
    "        df_cons.append(df)\n",
    "    return pd.concat(df_cons,ignore_index=True)\n",
    "\n",
    "# some dataframe operations - rename, rearrange, add columns\n",
    "def set_col_ops(df,rename_cols):\n",
    "    df.columns = map(str.lower, df.columns)\n",
    "    df = df.rename(columns=rename_cols)\n",
    "    df[\"event_timestamp\"] = pd.to_datetime(np.int64(df[\"event_epoch\"]), unit=\"ms\")\n",
    "    # df_raw_cons[\"temp_f\"] = df_raw_cons['temp_c'].apply(lambda x: (x * 9/5) + 32)\n",
    "    # df = df[[\"event_epoch\",\"event_timestamp\",\"site\",\"asset\",\"component\",\"signal_name\",\"temp_c\"]]\n",
    "    return df\n",
    "\n",
    "def get_indexed_df(df,index_col):\n",
    "    return df.set_index(index_col).sort_index()\n"
   ]
  },
  {
   "cell_type": "code",
   "execution_count": 3,
   "id": "8418ba40-9df0-436a-9db7-52aec9efb210",
   "metadata": {},
   "outputs": [],
   "source": [
    "# get list of input files\n",
    "src_files = get_src_files(src_dir,src_file_pat)\n",
    "# print(src_files)\n",
    "\n",
    "# get source schema and columns needed\n",
    "src_schema = get_src_schema()\n",
    "# print(src_schema)\n",
    "sel_cols=[\"timestamp\", \"SITE\",\"ASSET\",\"COMPONENT\",\"signal_name\",\"VALUE\"]"
   ]
  },
  {
   "cell_type": "markdown",
   "id": "98c7d897-a26c-49bb-bb8d-34862a52eb12",
   "metadata": {},
   "source": [
    "#### List of components that have an average temeprature above 105 degrees during any 30 second period"
   ]
  },
  {
   "cell_type": "code",
   "execution_count": 4,
   "id": "b4d4a503-d2a4-4a2b-9cd7-a293492613e9",
   "metadata": {},
   "outputs": [
    {
     "data": {
      "text/plain": [
       "site         asset       component    signal_name               event_timestamp    \n",
       "-1492083459  1996369523  399812473    LM_handleNegCoreTempDegC  2022-03-15 22:07:00    105.795769\n",
       "                                                                2022-03-15 22:07:30    106.209674\n",
       "                                                                2022-03-15 22:08:00    106.013432\n",
       "                                                                2022-03-15 22:08:30    105.485101\n",
       "-152918872   365951380   -1996083301  LM_handlePosCoreTempDegC  2022-03-13 20:32:00    105.566328\n",
       "                                                                2022-03-13 20:32:30    105.036654\n",
       "                         420204713    LM_handleNegCoreTempDegC  2022-03-19 03:59:00    106.529908\n",
       "                                                                2022-03-19 03:59:30    107.554934\n",
       "                                                                2022-03-19 04:00:00    107.309908\n",
       "                                                                2022-03-19 04:00:30    106.726411\n",
       "                                                                2022-03-19 04:01:00    106.135087\n",
       "1524600080   -848050549  1396988257   LM_handleNegCoreTempDegC  2022-03-14 08:58:00    117.938635\n",
       "Name: temp_c, dtype: float64"
      ]
     },
     "metadata": {},
     "output_type": "display_data"
    }
   ],
   "source": [
    "# construct conslidated dataframe from all input files\n",
    "df = get_cons_df(src_dir,src_files,src_schema,sel_cols)\n",
    "# df.head()\n",
    "rename_cols = {\"timestamp\":\"event_epoch\",\"value\":\"temp_c\"}\n",
    "df_col_ops = set_col_ops(df,rename_cols)\n",
    "df_indexed = get_indexed_df(df_col_ops,\"event_timestamp\")\n",
    "# df_indexed.head()\n",
    "df_resample = df_indexed.groupby([\"site\",\"asset\",\"component\",\"signal_name\"]).resample(\"30S\")[\"temp_c\"].mean()\n",
    "# df_resample.head()\n",
    "df_over_temp = df_resample[df_resample > 105].dropna()\n",
    "display(df_over_temp)"
   ]
  },
  {
   "cell_type": "markdown",
   "id": "f54153f4-c308-4c7b-9f65-8e3157a9998f",
   "metadata": {},
   "source": [
    "#### List of components that have an average temeprature above 105 degrees during any 30 second period"
   ]
  },
  {
   "cell_type": "code",
   "execution_count": 5,
   "id": "1c001b66-ccf8-4077-bae1-a9a25189c886",
   "metadata": {
    "editable": true,
    "scrolled": true,
    "slideshow": {
     "slide_type": ""
    },
    "tags": []
   },
   "outputs": [],
   "source": [
    "# df_pivot = pd.pivot_table(df_indexed, values=\"signal_name\", index=[\"component\",\"asset\",\"site\"], aggfunc='count')\n",
    "# display(df_pivot)"
   ]
  },
  {
   "cell_type": "code",
   "execution_count": null,
   "id": "2a2d62f8-40c6-4134-8aaf-b2097e1c1beb",
   "metadata": {},
   "outputs": [],
   "source": []
  },
  {
   "cell_type": "code",
   "execution_count": null,
   "id": "b5b9ca60-06ad-4a49-b7c7-1ee4cd6149ad",
   "metadata": {
    "editable": true,
    "slideshow": {
     "slide_type": ""
    },
    "tags": []
   },
   "outputs": [],
   "source": []
  },
  {
   "cell_type": "code",
   "execution_count": null,
   "id": "fe2e01a6-7397-419f-8f6d-fce78afca4f7",
   "metadata": {},
   "outputs": [],
   "source": []
  }
 ],
 "metadata": {
  "kernelspec": {
   "display_name": "Python 3 (ipykernel)",
   "language": "python",
   "name": "python3"
  },
  "language_info": {
   "codemirror_mode": {
    "name": "ipython",
    "version": 3
   },
   "file_extension": ".py",
   "mimetype": "text/x-python",
   "name": "python",
   "nbconvert_exporter": "python",
   "pygments_lexer": "ipython3",
   "version": "3.10.7"
  }
 },
 "nbformat": 4,
 "nbformat_minor": 5
}
